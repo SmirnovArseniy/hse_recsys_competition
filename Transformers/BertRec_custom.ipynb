{
 "cells": [
  {
   "cell_type": "markdown",
   "metadata": {},
   "source": [
    "# Будем обучать Bert из базового предобученного"
   ]
  },
  {
   "cell_type": "markdown",
   "metadata": {},
   "source": [
    "### Модель будет обучаться на решение задачи прогноза следующего фильма каждого пользователя"
   ]
  },
  {
   "cell_type": "markdown",
   "metadata": {},
   "source": [
    "Устанавливаем нужные пакеты"
   ]
  },
  {
   "cell_type": "code",
   "execution_count": 1,
   "metadata": {
    "colab": {
     "base_uri": "https://localhost:8080/"
    },
    "id": "M2Q6KlWB5Vmb",
    "outputId": "b12f3d35-8232-449e-d645-68be4333abd9",
    "scrolled": true
   },
   "outputs": [
    {
     "name": "stdout",
     "output_type": "stream",
     "text": [
      "Requirement already satisfied: transformers in c:\\users\\arssm\\.conda\\envs\\nn_env\\lib\\site-packages (4.41.2)\n",
      "Requirement already satisfied: filelock in c:\\users\\arssm\\.conda\\envs\\nn_env\\lib\\site-packages (from transformers) (3.13.1)\n",
      "Requirement already satisfied: huggingface-hub<1.0,>=0.23.0 in c:\\users\\arssm\\.conda\\envs\\nn_env\\lib\\site-packages (from transformers) (0.23.4)\n",
      "Requirement already satisfied: numpy>=1.17 in c:\\users\\arssm\\.conda\\envs\\nn_env\\lib\\site-packages (from transformers) (2.1.2)\n",
      "Requirement already satisfied: packaging>=20.0 in c:\\users\\arssm\\.conda\\envs\\nn_env\\lib\\site-packages (from transformers) (23.2)\n",
      "Requirement already satisfied: pyyaml>=5.1 in c:\\users\\arssm\\.conda\\envs\\nn_env\\lib\\site-packages (from transformers) (6.0.1)\n",
      "Requirement already satisfied: regex!=2019.12.17 in c:\\users\\arssm\\.conda\\envs\\nn_env\\lib\\site-packages (from transformers) (2024.5.15)\n",
      "Requirement already satisfied: requests in c:\\users\\arssm\\.conda\\envs\\nn_env\\lib\\site-packages (from transformers) (2.32.3)\n",
      "Requirement already satisfied: tokenizers<0.20,>=0.19 in c:\\users\\arssm\\.conda\\envs\\nn_env\\lib\\site-packages (from transformers) (0.19.1)\n",
      "Requirement already satisfied: safetensors>=0.4.1 in c:\\users\\arssm\\.conda\\envs\\nn_env\\lib\\site-packages (from transformers) (0.4.3)\n",
      "Requirement already satisfied: tqdm>=4.27 in c:\\users\\arssm\\.conda\\envs\\nn_env\\lib\\site-packages (from transformers) (4.66.4)\n",
      "Requirement already satisfied: fsspec>=2023.5.0 in c:\\users\\arssm\\.conda\\envs\\nn_env\\lib\\site-packages (from huggingface-hub<1.0,>=0.23.0->transformers) (2024.5.0)\n",
      "Requirement already satisfied: typing-extensions>=3.7.4.3 in c:\\users\\arssm\\.conda\\envs\\nn_env\\lib\\site-packages (from huggingface-hub<1.0,>=0.23.0->transformers) (4.11.0)\n",
      "Requirement already satisfied: colorama in c:\\users\\arssm\\.conda\\envs\\nn_env\\lib\\site-packages (from tqdm>=4.27->transformers) (0.4.6)\n",
      "Requirement already satisfied: charset-normalizer<4,>=2 in c:\\users\\arssm\\.conda\\envs\\nn_env\\lib\\site-packages (from requests->transformers) (2.0.4)\n",
      "Requirement already satisfied: idna<4,>=2.5 in c:\\users\\arssm\\.conda\\envs\\nn_env\\lib\\site-packages (from requests->transformers) (3.7)\n",
      "Requirement already satisfied: urllib3<3,>=1.21.1 in c:\\users\\arssm\\.conda\\envs\\nn_env\\lib\\site-packages (from requests->transformers) (2.2.1)\n",
      "Requirement already satisfied: certifi>=2017.4.17 in c:\\users\\arssm\\.conda\\envs\\nn_env\\lib\\site-packages (from requests->transformers) (2024.8.30)\n",
      "Requirement already satisfied: torch in c:\\users\\arssm\\.conda\\envs\\nn_env\\lib\\site-packages (2.3.0)\n",
      "Requirement already satisfied: filelock in c:\\users\\arssm\\.conda\\envs\\nn_env\\lib\\site-packages (from torch) (3.13.1)\n",
      "Requirement already satisfied: typing-extensions>=4.8.0 in c:\\users\\arssm\\.conda\\envs\\nn_env\\lib\\site-packages (from torch) (4.11.0)\n",
      "Requirement already satisfied: sympy in c:\\users\\arssm\\.conda\\envs\\nn_env\\lib\\site-packages (from torch) (1.12)\n",
      "Requirement already satisfied: networkx in c:\\users\\arssm\\.conda\\envs\\nn_env\\lib\\site-packages (from torch) (3.1)\n",
      "Requirement already satisfied: jinja2 in c:\\users\\arssm\\.conda\\envs\\nn_env\\lib\\site-packages (from torch) (3.1.3)\n",
      "Requirement already satisfied: fsspec in c:\\users\\arssm\\.conda\\envs\\nn_env\\lib\\site-packages (from torch) (2024.5.0)\n",
      "Requirement already satisfied: mkl<=2021.4.0,>=2021.1.1 in c:\\users\\arssm\\.conda\\envs\\nn_env\\lib\\site-packages (from torch) (2021.4.0)\n",
      "Requirement already satisfied: intel-openmp==2021.* in c:\\users\\arssm\\.conda\\envs\\nn_env\\lib\\site-packages (from mkl<=2021.4.0,>=2021.1.1->torch) (2021.4.0)\n",
      "Requirement already satisfied: tbb==2021.* in c:\\users\\arssm\\.conda\\envs\\nn_env\\lib\\site-packages (from mkl<=2021.4.0,>=2021.1.1->torch) (2021.13.0)\n",
      "Requirement already satisfied: MarkupSafe>=2.0 in c:\\users\\arssm\\.conda\\envs\\nn_env\\lib\\site-packages (from jinja2->torch) (2.1.3)\n",
      "Requirement already satisfied: mpmath>=0.19 in c:\\users\\arssm\\.conda\\envs\\nn_env\\lib\\site-packages (from sympy->torch) (1.3.0)\n",
      "Requirement already satisfied: tqdm in c:\\users\\arssm\\.conda\\envs\\nn_env\\lib\\site-packages (4.66.4)\n",
      "Requirement already satisfied: colorama in c:\\users\\arssm\\.conda\\envs\\nn_env\\lib\\site-packages (from tqdm) (0.4.6)\n"
     ]
    }
   ],
   "source": [
    "!pip install transformers\n",
    "!pip install torch\n",
    "!pip install tqdm"
   ]
  },
  {
   "cell_type": "markdown",
   "metadata": {},
   "source": [
    "Импортируем библиотеки и фиксируем `seed`"
   ]
  },
  {
   "cell_type": "code",
   "execution_count": 2,
   "metadata": {
    "id": "u60BVF9O5s7P"
   },
   "outputs": [],
   "source": [
    "import pandas as pd\n",
    "import numpy as np\n",
    "import datetime\n",
    "\n",
    "from sklearn.model_selection import train_test_split\n",
    "from sklearn.preprocessing import LabelEncoder\n",
    "\n",
    "import matplotlib.pyplot as plt\n",
    "import seaborn as sns\n",
    "\n",
    "from tqdm.notebook import tqdm\n",
    "\n",
    "import torch\n",
    "import torch.nn as nn\n",
    "import torch.optim as optim\n",
    "from torch.utils.data import Dataset, DataLoader\n",
    "\n",
    "from transformers import BertTokenizer, BertModel, BertConfig\n",
    "\n",
    "import random\n",
    "\n",
    "def set_global_seed(seed: int) -> None:\n",
    "    \"\"\"\n",
    "    Set global seed for reproducibility.\n",
    "    \"\"\"\n",
    "\n",
    "    torch.manual_seed(seed)\n",
    "    torch.cuda.manual_seed(seed)\n",
    "    torch.cuda.manual_seed_all(seed)\n",
    "    random.seed(seed)\n",
    "    np.random.seed(seed)\n",
    "\n",
    "    torch.backends.cudnn.deterministic = True\n",
    "    torch.backends.cudnn.benchmark = False\n",
    "    \n",
    "set_global_seed(42)\n",
    "\n",
    "import warnings\n",
    "warnings.filterwarnings(\"ignore\")"
   ]
  },
  {
   "cell_type": "code",
   "execution_count": 3,
   "metadata": {
    "colab": {
     "base_uri": "https://localhost:8080/"
    },
    "id": "MkLN64Rg_sFH",
    "outputId": "e1ac4dfb-cbda-49a9-d204-43033b02215a"
   },
   "outputs": [
    {
     "data": {
      "text/plain": [
       "True"
      ]
     },
     "execution_count": 3,
     "metadata": {},
     "output_type": "execute_result"
    }
   ],
   "source": [
    "torch.cuda.is_available()"
   ]
  },
  {
   "cell_type": "markdown",
   "metadata": {},
   "source": [
    "Подгружаем данные"
   ]
  },
  {
   "cell_type": "code",
   "execution_count": 4,
   "metadata": {
    "colab": {
     "base_uri": "https://localhost:8080/",
     "height": 380
    },
    "id": "eAtN1qlQ7RTS",
    "outputId": "42218856-c477-4017-8f4c-d30254a15a85"
   },
   "outputs": [
    {
     "name": "stdout",
     "output_type": "stream",
     "text": [
      "(894149, 4)\n"
     ]
    },
    {
     "data": {
      "text/html": [
       "<div>\n",
       "<style scoped>\n",
       "    .dataframe tbody tr th:only-of-type {\n",
       "        vertical-align: middle;\n",
       "    }\n",
       "\n",
       "    .dataframe tbody tr th {\n",
       "        vertical-align: top;\n",
       "    }\n",
       "\n",
       "    .dataframe thead th {\n",
       "        text-align: right;\n",
       "    }\n",
       "</style>\n",
       "<table border=\"1\" class=\"dataframe\">\n",
       "  <thead>\n",
       "    <tr style=\"text-align: right;\">\n",
       "      <th></th>\n",
       "      <th>user_id</th>\n",
       "      <th>item_id</th>\n",
       "      <th>rating</th>\n",
       "      <th>timestamp</th>\n",
       "    </tr>\n",
       "  </thead>\n",
       "  <tbody>\n",
       "    <tr>\n",
       "      <th>0</th>\n",
       "      <td>0</td>\n",
       "      <td>1505</td>\n",
       "      <td>4</td>\n",
       "      <td>0</td>\n",
       "    </tr>\n",
       "    <tr>\n",
       "      <th>1</th>\n",
       "      <td>0</td>\n",
       "      <td>3669</td>\n",
       "      <td>3</td>\n",
       "      <td>1</td>\n",
       "    </tr>\n",
       "    <tr>\n",
       "      <th>2</th>\n",
       "      <td>0</td>\n",
       "      <td>584</td>\n",
       "      <td>4</td>\n",
       "      <td>2</td>\n",
       "    </tr>\n",
       "    <tr>\n",
       "      <th>3</th>\n",
       "      <td>0</td>\n",
       "      <td>3390</td>\n",
       "      <td>3</td>\n",
       "      <td>3</td>\n",
       "    </tr>\n",
       "    <tr>\n",
       "      <th>4</th>\n",
       "      <td>0</td>\n",
       "      <td>2885</td>\n",
       "      <td>4</td>\n",
       "      <td>4</td>\n",
       "    </tr>\n",
       "    <tr>\n",
       "      <th>5</th>\n",
       "      <td>0</td>\n",
       "      <td>79</td>\n",
       "      <td>5</td>\n",
       "      <td>5</td>\n",
       "    </tr>\n",
       "    <tr>\n",
       "      <th>6</th>\n",
       "      <td>0</td>\n",
       "      <td>717</td>\n",
       "      <td>4</td>\n",
       "      <td>7</td>\n",
       "    </tr>\n",
       "    <tr>\n",
       "      <th>7</th>\n",
       "      <td>0</td>\n",
       "      <td>187</td>\n",
       "      <td>4</td>\n",
       "      <td>8</td>\n",
       "    </tr>\n",
       "    <tr>\n",
       "      <th>8</th>\n",
       "      <td>0</td>\n",
       "      <td>93</td>\n",
       "      <td>5</td>\n",
       "      <td>9</td>\n",
       "    </tr>\n",
       "    <tr>\n",
       "      <th>9</th>\n",
       "      <td>0</td>\n",
       "      <td>3016</td>\n",
       "      <td>5</td>\n",
       "      <td>10</td>\n",
       "    </tr>\n",
       "  </tbody>\n",
       "</table>\n",
       "</div>"
      ],
      "text/plain": [
       "   user_id  item_id  rating  timestamp\n",
       "0        0     1505       4          0\n",
       "1        0     3669       3          1\n",
       "2        0      584       4          2\n",
       "3        0     3390       3          3\n",
       "4        0     2885       4          4\n",
       "5        0       79       5          5\n",
       "6        0      717       4          7\n",
       "7        0      187       4          8\n",
       "8        0       93       5          9\n",
       "9        0     3016       5         10"
      ]
     },
     "execution_count": 4,
     "metadata": {},
     "output_type": "execute_result"
    }
   ],
   "source": [
    "data = pd.read_csv('kaggle/events.csv')\n",
    "data = data.sort_values(by=['user_id', 'timestamp'])\n",
    "print(data.shape)\n",
    "data.head(10)"
   ]
  },
  {
   "cell_type": "markdown",
   "metadata": {},
   "source": [
    "Для решения задачи необходимо:</br>\n",
    "1) Преобразовать все item_id в пространство (0 - кол-во фильмов-1);</br>\n",
    "   Это нужно, чтобы модель интерпретировала айдишники фильмов как метку класса. Генерируем и сохраняем словарь мэппинга айдишников и меток класса.</br>\n",
    "   *Предположение: train содержит все фильмы, которые могут быть предложены пользователю/просмотрены пользователем.*\n",
    "2) Создать таргеты для каждого наблюдения;</br>\n",
    "   Для этого сортируем датафрейм для каждого пользователя по `timestamp` и создаем новую колонку с помощью шифта данных на 1."
   ]
  },
  {
   "cell_type": "code",
   "execution_count": 5,
   "metadata": {
    "colab": {
     "base_uri": "https://localhost:8080/"
    },
    "id": "g_o8MB_dNMqI",
    "outputId": "9e3e5867-f0ea-461f-bf54-825a90006e57"
   },
   "outputs": [
    {
     "name": "stdout",
     "output_type": "stream",
     "text": [
      "0 3689\n"
     ]
    }
   ],
   "source": [
    "unique_items = data['item_id'].unique()\n",
    "item_to_idx = {item: idx for idx, item in enumerate(unique_items)}\n",
    "idx_to_item = {idx: item for item, idx in item_to_idx.items()}\n",
    "\n",
    "data['item_id'] = data['item_id'].map(item_to_idx)\n",
    "\n",
    "print(data['item_id'].min(), data['item_id'].max())"
   ]
  },
  {
   "cell_type": "code",
   "execution_count": 6,
   "metadata": {},
   "outputs": [
    {
     "data": {
      "text/plain": [
       "3690"
      ]
     },
     "execution_count": 6,
     "metadata": {},
     "output_type": "execute_result"
    }
   ],
   "source": [
    "data['item_id'].nunique()"
   ]
  },
  {
   "cell_type": "markdown",
   "metadata": {},
   "source": [
    "Формируем test выборку как последние 2 просмотренных фильма пользователя"
   ]
  },
  {
   "cell_type": "code",
   "execution_count": 7,
   "metadata": {
    "id": "cB-khxn47I7D"
   },
   "outputs": [],
   "source": [
    "def train_test_split_by_user(df, test_size=2):\n",
    "    train_list = []\n",
    "    test_list = []\n",
    "\n",
    "    for user_id, user_data in df.groupby('user_id'):\n",
    "        user_data = user_data.sort_values(by='timestamp')\n",
    "\n",
    "        test_data = user_data.tail(test_size)\n",
    "        train_data = user_data.drop(test_data.index)\n",
    "        train_list.append(train_data)\n",
    "        test_list.append(test_data)\n",
    "    train_data = pd.concat(train_list).reset_index(drop=True)\n",
    "    test_data = pd.concat(test_list).reset_index(drop=True)\n",
    "\n",
    "    return train_data, test_data"
   ]
  },
  {
   "cell_type": "code",
   "execution_count": 8,
   "metadata": {
    "colab": {
     "base_uri": "https://localhost:8080/"
    },
    "id": "rpw9t5V5Ch5r",
    "outputId": "4f407f45-297f-4eb5-c20d-5e59e680f86c"
   },
   "outputs": [
    {
     "name": "stdout",
     "output_type": "stream",
     "text": [
      "Train size: (876029, 5)\n",
      "Test size: (12080, 5)\n"
     ]
    }
   ],
   "source": [
    "data['next_item_id'] = data.groupby('user_id')['item_id'].shift(-1)\n",
    "data = data.dropna(subset=['next_item_id'])\n",
    "\n",
    "data['next_item_id'] = data['next_item_id'].astype(int)\n",
    "\n",
    "train, test = train_test_split_by_user(data)\n",
    "\n",
    "print(f'Train size: {train.shape}')\n",
    "print(f'Test size: {test.shape}')\n",
    "assert len(pd.merge(train, test, on=['user_id', 'item_id', 'timestamp'], how='inner')) == 0, \"Есть перечечения\""
   ]
  },
  {
   "cell_type": "markdown",
   "metadata": {},
   "source": [
    "Прописываем класс MyDataset для работы с датасетом внутри модели:</br>\n",
    "Наследуемся от торчового Dataset</br> Основа - метод `__get_item__`, который преобразует данные в нужный формат для output модели на каждом шаге"
   ]
  },
  {
   "cell_type": "code",
   "execution_count": 9,
   "metadata": {
    "id": "E954O8xq7JdG"
   },
   "outputs": [],
   "source": [
    "class MyDataset(Dataset):\n",
    "    def __init__(self, df, tokenizer, max_len=128):\n",
    "        self.df = df\n",
    "        self.tokenizer = tokenizer\n",
    "        self.max_len = max_len\n",
    "\n",
    "    def __len__(self):\n",
    "        return len(self.df)\n",
    "\n",
    "    def __getitem__(self, idx):\n",
    "        user_data = self.df.iloc[idx]\n",
    "        user_id = int(user_data['user_id'])\n",
    "        item_id_str = str(user_data['item_id'])\n",
    "\n",
    "        encoded = self.tokenizer.encode_plus(\n",
    "            item_id_str,\n",
    "            max_length=self.max_len,\n",
    "            truncation=True,\n",
    "            padding=\"max_length\",\n",
    "            return_tensors=\"pt\")\n",
    "\n",
    "        input_ids = encoded['input_ids'].squeeze(0)\n",
    "        attention_mask = encoded['attention_mask'].squeeze(0)\n",
    "\n",
    "        return {'input_ids': torch.tensor(input_ids, dtype=torch.long),\n",
    "                'attention_mask': torch.tensor(attention_mask, dtype=torch.long),\n",
    "                'target': torch.tensor(user_data['next_item_id'], dtype=torch.long),\n",
    "                'user_id': torch.tensor(user_id, dtype=torch.long)}"
   ]
  },
  {
   "cell_type": "markdown",
   "metadata": {},
   "source": [
    "Прописываем класс нашей модели:</br>\n",
    "1) Наследуемся от дефолтного `nn.Module`;\n",
    "2) Загружаем слой BERT из предобученного базового BERT-a\n",
    "3) Прописываем метод `forward`"
   ]
  },
  {
   "cell_type": "code",
   "execution_count": 10,
   "metadata": {
    "id": "pK69ffAVAWIg"
   },
   "outputs": [],
   "source": [
    "class RecommenderBERTModel(nn.Module):\n",
    "    def __init__(self, bert_model_name=\"bert-base-uncased\", hidden_size=768, num_items=None):\n",
    "        super(RecommenderBERTModel, self).__init__()\n",
    "\n",
    "        self.bert = BertModel.from_pretrained(bert_model_name)\n",
    "        self.linear = nn.Linear(hidden_size, num_items)\n",
    "\n",
    "    def forward(self, input_ids, attention_mask):\n",
    "\n",
    "        outputs = self.bert(input_ids=input_ids, attention_mask=attention_mask)\n",
    "        cls_output = outputs.pooler_output\n",
    "        predictions = self.linear(cls_output)\n",
    "        return predictions\n"
   ]
  },
  {
   "cell_type": "markdown",
   "metadata": {},
   "source": [
    "Функция для обучения нашей модели:</br>\n",
    "1) Оптимизатор - `Adam`\n",
    "2) Лосс - `CrossEntropyLoss`\n",
    "3) Сохранение модели раз в n шагов"
   ]
  },
  {
   "cell_type": "code",
   "execution_count": 11,
   "metadata": {
    "id": "z44RXqa57JxD"
   },
   "outputs": [],
   "source": [
    "def train_model(model,\n",
    "                train_loader,\n",
    "                val_loader,\n",
    "                device,\n",
    "                epochs=3,\n",
    "                learning_rate=1e-5,\n",
    "                save_every_n_steps=100,\n",
    "                save_path=\"./RecommenderBERTModelv1.pth\"):\n",
    "\n",
    "    model = model.to(device)\n",
    "    optimizer = optim.Adam(model.parameters(), lr=learning_rate)\n",
    "    loss_fn = nn.CrossEntropyLoss()\n",
    "\n",
    "    for epoch in range(epochs):\n",
    "        model.train()\n",
    "        total_loss = 0\n",
    "\n",
    "        print(f'Epoch {epoch + 1}/{epochs}')\n",
    "        train_progress_bar = tqdm(train_loader, desc='Training', leave=False)\n",
    "\n",
    "        step = 0\n",
    "\n",
    "        for batch in train_progress_bar:\n",
    "            optimizer.zero_grad()\n",
    "\n",
    "            input_ids = batch['input_ids'].to(device)\n",
    "            attention_mask = batch['attention_mask'].to(device)\n",
    "            targets = batch['target'].to(device)\n",
    "\n",
    "            outputs = model(input_ids, attention_mask)\n",
    "\n",
    "            assert targets.max().item() < 3690, f\"Метка класса {targets.max().item()} неверна\"\n",
    "\n",
    "            loss = loss_fn(outputs, targets)\n",
    "            loss.backward()\n",
    "            optimizer.step()\n",
    "\n",
    "            total_loss += loss.item()\n",
    "\n",
    "            train_progress_bar.set_postfix({'loss': loss.item()})\n",
    "\n",
    "            if step % save_every_n_steps == 0:\n",
    "                torch.save(model.state_dict(), save_path)\n",
    "                print(f\"Сheckpoint saved at step {step}, epoch {epoch + 1}\")\n",
    "\n",
    "            step += 1\n",
    "\n",
    "        avg_train_loss = total_loss / len(train_loader)\n",
    "        print(f\"Training loss: {avg_train_loss}\")\n",
    "\n",
    "        model.eval()\n",
    "        val_loss = 0\n",
    "        correct_predictions = 0\n",
    "\n",
    "        val_progress_bar = tqdm(val_loader, desc='Validating', leave=False)\n",
    "\n",
    "        with torch.no_grad():\n",
    "            for batch in val_progress_bar:\n",
    "                input_ids = batch['input_ids'].to(device)\n",
    "                attention_mask = batch['attention_mask'].to(device)\n",
    "                targets = batch['target'].to(device)\n",
    "\n",
    "                outputs = model(input_ids, attention_mask)\n",
    "                loss = loss_fn(outputs, targets)\n",
    "                val_loss += loss.item()\n",
    "\n",
    "                _, preds = torch.max(outputs, dim=1)\n",
    "                correct_predictions += torch.sum(preds == targets)\n",
    "\n",
    "                val_progress_bar.set_postfix({'val_loss': loss.item()})\n",
    "\n",
    "        avg_val_loss = val_loss / len(val_loader)\n",
    "        accuracy = correct_predictions.double() / len(val_loader.dataset)\n",
    "        print(f\"Validation loss: {avg_val_loss}, Accuracy: {accuracy}\")\n",
    "\n",
    "    return model\n"
   ]
  },
  {
   "cell_type": "markdown",
   "metadata": {},
   "source": [
    "Токенизируем BERT-ом данные, входящие в модель"
   ]
  },
  {
   "cell_type": "code",
   "execution_count": 12,
   "metadata": {
    "id": "fhd3BdFL7Kkn"
   },
   "outputs": [],
   "source": [
    "def prepare_dataloaders(train_data, test_data, tokenizer, batch_size=16, max_len=128):\n",
    "    train_dataset = MyDataset(train_data, tokenizer, max_len=max_len)\n",
    "    test_dataset = MyDataset(test_data, tokenizer, max_len=max_len)\n",
    "\n",
    "    train_loader = DataLoader(train_dataset, batch_size=batch_size, shuffle=True)\n",
    "    test_loader = DataLoader(test_dataset, batch_size=batch_size)\n",
    "\n",
    "    return train_loader, test_loader"
   ]
  },
  {
   "cell_type": "code",
   "execution_count": 13,
   "metadata": {
    "colab": {
     "base_uri": "https://localhost:8080/"
    },
    "id": "q6Kl8wym7Khw",
    "outputId": "176b3a14-e7b1-48df-8679-652b3125f66d"
   },
   "outputs": [],
   "source": [
    "tokenizer_bert = BertTokenizer.from_pretrained('bert-base-uncased')\n",
    "\n",
    "train_loader, val_loader = prepare_dataloaders(train, test, tokenizer_bert)"
   ]
  },
  {
   "cell_type": "markdown",
   "metadata": {},
   "source": [
    "Наконец-то приступаем к обучению модели"
   ]
  },
  {
   "cell_type": "code",
   "execution_count": 14,
   "metadata": {
    "colab": {
     "base_uri": "https://localhost:8080/",
     "height": 156,
     "referenced_widgets": [
      "626330ecafb1444fb75862f362a5c8b0",
      "120a009294c446a6aa3b8dc64268c8a8",
      "68982086ccb74f30afb8e0aa8625e8b1",
      "663ef42be77c4c2fbd378e9f93202d3c",
      "f0332d839c93416494059962613d17c9",
      "89316b68b1ac43b8a8f5c820e1af6d47",
      "80bffdab71e24393b0b018ef41a33ab1",
      "dfa4982186cf470bb208fd8d78cb901e",
      "81f2a72fda4b4c8983fd4966bca93dad",
      "e1693b8f22c84f409809cb72cc008189",
      "cf2f899fc7e9425ca06bd8217fbf8bce"
     ]
    },
    "id": "NQNfke9W7KfT",
    "outputId": "45acb808-ac01-4ff7-97f9-242457d3be1d",
    "scrolled": true
   },
   "outputs": [
    {
     "data": {
      "text/plain": [
       "Embedding(30522, 768, padding_idx=0)"
      ]
     },
     "execution_count": 14,
     "metadata": {},
     "output_type": "execute_result"
    }
   ],
   "source": [
    "device = torch.device(\"cuda\" if torch.cuda.is_available() else \"cpu\")\n",
    "num_items = data['item_id'].nunique()\n",
    "model = RecommenderBERTModel(bert_model_name='bert-base-uncased',\n",
    "                             num_items=num_items)\n",
    "model.bert.resize_token_embeddings(len(tokenizer_bert))\n",
    "\n",
    "#trained_model = train_model(model, train_loader, val_loader, device, epochs=1,\n",
    "#                            learning_rate=1e-5, save_every_n_steps=500,\n",
    "#                            save_path=\"./RecommenderBERTModelv3.pth\")"
   ]
  },
  {
   "cell_type": "markdown",
   "metadata": {},
   "source": [
    "Сохраняем веса обученной модели"
   ]
  },
  {
   "cell_type": "code",
   "execution_count": 15,
   "metadata": {},
   "outputs": [],
   "source": [
    "# torch.save(model.state_dict(), \"./RecommenderBERTModelv1.pth\")"
   ]
  },
  {
   "cell_type": "code",
   "execution_count": 16,
   "metadata": {},
   "outputs": [
    {
     "data": {
      "text/plain": [
       "<All keys matched successfully>"
      ]
     },
     "execution_count": 16,
     "metadata": {},
     "output_type": "execute_result"
    }
   ],
   "source": [
    "checkpoint = torch.load(\"./RecommenderBERTModelv3.pth\")\n",
    "model.load_state_dict(checkpoint)"
   ]
  },
  {
   "cell_type": "markdown",
   "metadata": {},
   "source": [
    "Функция инференса модели на наших пользователей"
   ]
  },
  {
   "cell_type": "code",
   "execution_count": 17,
   "metadata": {},
   "outputs": [],
   "source": [
    "user_item_history = train.groupby('user_id')['item_id'].apply(set).to_dict()"
   ]
  },
  {
   "cell_type": "code",
   "execution_count": 20,
   "metadata": {},
   "outputs": [],
   "source": [
    "def top_recs(model, data_loader, device, idx_to_item, user_item_history, top_n=20):\n",
    "    model.eval()\n",
    "    recommendations = {}\n",
    "\n",
    "    with torch.no_grad():\n",
    "        for batch in tqdm(data_loader):\n",
    "            input_ids = batch['input_ids'].to(device)\n",
    "            attention_mask = batch['attention_mask'].to(device)\n",
    "            user_ids = batch['user_id']\n",
    "            \n",
    "            outputs = model(input_ids, attention_mask)\n",
    "            probabilities = torch.softmax(outputs, dim=1)\n",
    "\n",
    "            top_k_indices = torch.topk(probabilities, top_n + 10, dim=1).indices\n",
    "\n",
    "            for i, user_id in enumerate(user_ids):\n",
    "                predicted_item_indices = top_k_indices[i].tolist()\n",
    "                predicted_item_ids = [idx_to_item[idx] for idx in predicted_item_indices]\n",
    "\n",
    "                user_history = user_item_history.get(user_id, set())\n",
    "                filtered_items = [item_id for item_id in predicted_item_ids if item_id not in user_history]\n",
    "                recommendations[user_id] = filtered_items[:top_n]\n",
    "\n",
    "    recommendation_df = pd.DataFrame({\n",
    "        'user_id': recommendations.keys(),\n",
    "        'recommendations': [' '.join(map(str, items)) for items in recommendations.values()]\n",
    "    })\n",
    "\n",
    "    return recommendation_df"
   ]
  },
  {
   "cell_type": "code",
   "execution_count": 21,
   "metadata": {},
   "outputs": [
    {
     "data": {
      "application/vnd.jupyter.widget-view+json": {
       "model_id": "28e66008fe744b2b86efddd5fc088126",
       "version_major": 2,
       "version_minor": 0
      },
      "text/plain": [
       "  0%|          | 0/378 [00:00<?, ?it/s]"
      ]
     },
     "metadata": {},
     "output_type": "display_data"
    },
    {
     "data": {
      "text/html": [
       "<div>\n",
       "<style scoped>\n",
       "    .dataframe tbody tr th:only-of-type {\n",
       "        vertical-align: middle;\n",
       "    }\n",
       "\n",
       "    .dataframe tbody tr th {\n",
       "        vertical-align: top;\n",
       "    }\n",
       "\n",
       "    .dataframe thead th {\n",
       "        text-align: right;\n",
       "    }\n",
       "</style>\n",
       "<table border=\"1\" class=\"dataframe\">\n",
       "  <thead>\n",
       "    <tr style=\"text-align: right;\">\n",
       "      <th></th>\n",
       "      <th>user_id</th>\n",
       "      <th>recommendations</th>\n",
       "    </tr>\n",
       "  </thead>\n",
       "  <tbody>\n",
       "    <tr>\n",
       "      <th>0</th>\n",
       "      <td>0</td>\n",
       "      <td>331 3409 463 472 2980 1315 3677 2862 1337 2688</td>\n",
       "    </tr>\n",
       "    <tr>\n",
       "      <th>2</th>\n",
       "      <td>1</td>\n",
       "      <td>331 1337 1315 463 3409 2862 2980 472 3677 2297</td>\n",
       "    </tr>\n",
       "    <tr>\n",
       "      <th>4</th>\n",
       "      <td>2</td>\n",
       "      <td>331 463 472 3409 2980 3677 1315 2297 2862 476</td>\n",
       "    </tr>\n",
       "    <tr>\n",
       "      <th>6</th>\n",
       "      <td>3</td>\n",
       "      <td>3022 472 1583 3529 3013 463 1223 3409 476 2757</td>\n",
       "    </tr>\n",
       "    <tr>\n",
       "      <th>8</th>\n",
       "      <td>4</td>\n",
       "      <td>472 640 3529 2067 2256 2732 2564 2646 1223 2862</td>\n",
       "    </tr>\n",
       "    <tr>\n",
       "      <th>...</th>\n",
       "      <td>...</td>\n",
       "      <td>...</td>\n",
       "    </tr>\n",
       "    <tr>\n",
       "      <th>12070</th>\n",
       "      <td>6035</td>\n",
       "      <td>3022 1583 3529 3013 2210 512 1223 463 472 922</td>\n",
       "    </tr>\n",
       "    <tr>\n",
       "      <th>12072</th>\n",
       "      <td>6036</td>\n",
       "      <td>3022 1583 2210 3529 3013 512 1223 169 2688 463</td>\n",
       "    </tr>\n",
       "    <tr>\n",
       "      <th>12074</th>\n",
       "      <td>6037</td>\n",
       "      <td>3022 1583 472 3529 3013 1223 640 2757 463 584</td>\n",
       "    </tr>\n",
       "    <tr>\n",
       "      <th>12076</th>\n",
       "      <td>6038</td>\n",
       "      <td>331 2397 3002 1044 3648 3409 3435 983 96 1919</td>\n",
       "    </tr>\n",
       "    <tr>\n",
       "      <th>12078</th>\n",
       "      <td>6039</td>\n",
       "      <td>3022 1583 3529 472 3013 1223 2210 2757 463 1316</td>\n",
       "    </tr>\n",
       "  </tbody>\n",
       "</table>\n",
       "<p>6040 rows × 2 columns</p>\n",
       "</div>"
      ],
      "text/plain": [
       "       user_id                                  recommendations\n",
       "0            0   331 3409 463 472 2980 1315 3677 2862 1337 2688\n",
       "2            1   331 1337 1315 463 3409 2862 2980 472 3677 2297\n",
       "4            2    331 463 472 3409 2980 3677 1315 2297 2862 476\n",
       "6            3   3022 472 1583 3529 3013 463 1223 3409 476 2757\n",
       "8            4  472 640 3529 2067 2256 2732 2564 2646 1223 2862\n",
       "...        ...                                              ...\n",
       "12070     6035    3022 1583 3529 3013 2210 512 1223 463 472 922\n",
       "12072     6036   3022 1583 2210 3529 3013 512 1223 169 2688 463\n",
       "12074     6037    3022 1583 472 3529 3013 1223 640 2757 463 584\n",
       "12076     6038    331 2397 3002 1044 3648 3409 3435 983 96 1919\n",
       "12078     6039  3022 1583 3529 472 3013 1223 2210 2757 463 1316\n",
       "\n",
       "[6040 rows x 2 columns]"
      ]
     },
     "execution_count": 21,
     "metadata": {},
     "output_type": "execute_result"
    }
   ],
   "source": [
    "model = model.to(device)\n",
    "recs_df = top_recs(model, val_loader, device, idx_to_item, user_item_history, top_n=10)\n",
    "recs_df['user_id'] = recs_df['user_id'].apply(lambda x: x.item() if torch.is_tensor(x) else x)\n",
    "recs_df.drop_duplicates(subset=['user_id'], inplace=True)\n",
    "recs_df"
   ]
  },
  {
   "cell_type": "code",
   "execution_count": 30,
   "metadata": {},
   "outputs": [],
   "source": [
    "from torch.utils.data import DataLoader, ConcatDataset\n",
    "\n",
    "train_dataset = train_loader.dataset\n",
    "val_dataset = val_loader.dataset\n",
    "\n",
    "combined_dataset = ConcatDataset([train_dataset, val_dataset])\n",
    "\n",
    "combined_loader = DataLoader(combined_dataset, batch_size=32, shuffle=True)"
   ]
  },
  {
   "cell_type": "code",
   "execution_count": 31,
   "metadata": {},
   "outputs": [
    {
     "data": {
      "application/vnd.jupyter.widget-view+json": {
       "model_id": "11c0b471e5f147bfbe703c9c8b150c29",
       "version_major": 2,
       "version_minor": 0
      },
      "text/plain": [
       "  0%|          | 0/27754 [00:00<?, ?it/s]"
      ]
     },
     "metadata": {},
     "output_type": "display_data"
    },
    {
     "data": {
      "text/html": [
       "<div>\n",
       "<style scoped>\n",
       "    .dataframe tbody tr th:only-of-type {\n",
       "        vertical-align: middle;\n",
       "    }\n",
       "\n",
       "    .dataframe tbody tr th {\n",
       "        vertical-align: top;\n",
       "    }\n",
       "\n",
       "    .dataframe thead th {\n",
       "        text-align: right;\n",
       "    }\n",
       "</style>\n",
       "<table border=\"1\" class=\"dataframe\">\n",
       "  <thead>\n",
       "    <tr style=\"text-align: right;\">\n",
       "      <th></th>\n",
       "      <th>user_id</th>\n",
       "      <th>recommendations</th>\n",
       "    </tr>\n",
       "  </thead>\n",
       "  <tbody>\n",
       "    <tr>\n",
       "      <th>0</th>\n",
       "      <td>4957</td>\n",
       "      <td>331 3409 2397 3435 2862 1337 2354 1044 3002 983</td>\n",
       "    </tr>\n",
       "    <tr>\n",
       "      <th>1</th>\n",
       "      <td>186</td>\n",
       "      <td>3022 1583 463 472 3677 3409 3529 3013 476 169</td>\n",
       "    </tr>\n",
       "    <tr>\n",
       "      <th>2</th>\n",
       "      <td>1792</td>\n",
       "      <td>3022 1583 472 3529 640 3013 463 1223 2757 584</td>\n",
       "    </tr>\n",
       "    <tr>\n",
       "      <th>3</th>\n",
       "      <td>3385</td>\n",
       "      <td>1583 3022 472 3529 640 463 1223 3013 2757 2210</td>\n",
       "    </tr>\n",
       "    <tr>\n",
       "      <th>4</th>\n",
       "      <td>3610</td>\n",
       "      <td>3022 1583 472 3529 640 3013 1223 463 2757 584</td>\n",
       "    </tr>\n",
       "    <tr>\n",
       "      <th>...</th>\n",
       "      <td>...</td>\n",
       "      <td>...</td>\n",
       "    </tr>\n",
       "    <tr>\n",
       "      <th>888104</th>\n",
       "      <td>3687</td>\n",
       "      <td>3022 1583 472 3529 3013 1223 640 2757 463 584</td>\n",
       "    </tr>\n",
       "    <tr>\n",
       "      <th>888105</th>\n",
       "      <td>2711</td>\n",
       "      <td>331 3409 1337 2862 3435 2397 2256 472 3600 3677</td>\n",
       "    </tr>\n",
       "    <tr>\n",
       "      <th>888106</th>\n",
       "      <td>5916</td>\n",
       "      <td>3022 1583 472 3529 3013 463 640 1223 2757 584</td>\n",
       "    </tr>\n",
       "    <tr>\n",
       "      <th>888107</th>\n",
       "      <td>1578</td>\n",
       "      <td>3409 331 1315 463 2688 472 3677 2980 2646 2297</td>\n",
       "    </tr>\n",
       "    <tr>\n",
       "      <th>888108</th>\n",
       "      <td>5667</td>\n",
       "      <td>331 3409 2397 3435 1337 1044 2354 2862 3002 983</td>\n",
       "    </tr>\n",
       "  </tbody>\n",
       "</table>\n",
       "<p>888109 rows × 2 columns</p>\n",
       "</div>"
      ],
      "text/plain": [
       "        user_id                                  recommendations\n",
       "0          4957  331 3409 2397 3435 2862 1337 2354 1044 3002 983\n",
       "1           186    3022 1583 463 472 3677 3409 3529 3013 476 169\n",
       "2          1792    3022 1583 472 3529 640 3013 463 1223 2757 584\n",
       "3          3385   1583 3022 472 3529 640 463 1223 3013 2757 2210\n",
       "4          3610    3022 1583 472 3529 640 3013 1223 463 2757 584\n",
       "...         ...                                              ...\n",
       "888104     3687    3022 1583 472 3529 3013 1223 640 2757 463 584\n",
       "888105     2711  331 3409 1337 2862 3435 2397 2256 472 3600 3677\n",
       "888106     5916    3022 1583 472 3529 3013 463 640 1223 2757 584\n",
       "888107     1578   3409 331 1315 463 2688 472 3677 2980 2646 2297\n",
       "888108     5667  331 3409 2397 3435 1337 1044 2354 2862 3002 983\n",
       "\n",
       "[888109 rows x 2 columns]"
      ]
     },
     "execution_count": 31,
     "metadata": {},
     "output_type": "execute_result"
    }
   ],
   "source": [
    "model = model.to(device)\n",
    "recs_df = top_recs(model, combined_loader, device, idx_to_item, user_item_history, top_n=10)\n",
    "recs_df['user_id'] = recs_df['user_id'].apply(lambda x: x.item() if torch.is_tensor(x) else x)\n",
    "recs_df"
   ]
  },
  {
   "cell_type": "code",
   "execution_count": 42,
   "metadata": {},
   "outputs": [],
   "source": [
    "df_last = recs_df.groupby('user_id').tail(1)"
   ]
  },
  {
   "cell_type": "code",
   "execution_count": 43,
   "metadata": {},
   "outputs": [
    {
     "data": {
      "text/html": [
       "<div>\n",
       "<style scoped>\n",
       "    .dataframe tbody tr th:only-of-type {\n",
       "        vertical-align: middle;\n",
       "    }\n",
       "\n",
       "    .dataframe tbody tr th {\n",
       "        vertical-align: top;\n",
       "    }\n",
       "\n",
       "    .dataframe thead th {\n",
       "        text-align: right;\n",
       "    }\n",
       "</style>\n",
       "<table border=\"1\" class=\"dataframe\">\n",
       "  <thead>\n",
       "    <tr style=\"text-align: right;\">\n",
       "      <th></th>\n",
       "      <th>user_id</th>\n",
       "      <th>item_id</th>\n",
       "    </tr>\n",
       "  </thead>\n",
       "  <tbody>\n",
       "    <tr>\n",
       "      <th>881607</th>\n",
       "      <td>0</td>\n",
       "      <td>3022 1583 472 3529 640 3013 1223 463 2757 584</td>\n",
       "    </tr>\n",
       "    <tr>\n",
       "      <th>886016</th>\n",
       "      <td>1</td>\n",
       "      <td>331 3409 463 472 1337 2862 2297 1315 2980 3677</td>\n",
       "    </tr>\n",
       "    <tr>\n",
       "      <th>886236</th>\n",
       "      <td>2</td>\n",
       "      <td>331 2862 1337 2256 3409 472 2980 463 3677 2297</td>\n",
       "    </tr>\n",
       "    <tr>\n",
       "      <th>887651</th>\n",
       "      <td>3</td>\n",
       "      <td>3022 1583 472 3529 640 3013 1223 463 2757 584</td>\n",
       "    </tr>\n",
       "    <tr>\n",
       "      <th>882812</th>\n",
       "      <td>4</td>\n",
       "      <td>472 3022 463 1583 3529 3013 3409 3677 476 1223</td>\n",
       "    </tr>\n",
       "    <tr>\n",
       "      <th>...</th>\n",
       "      <td>...</td>\n",
       "      <td>...</td>\n",
       "    </tr>\n",
       "    <tr>\n",
       "      <th>888042</th>\n",
       "      <td>6035</td>\n",
       "      <td>3022 1583 472 3529 640 3013 463 1223 2757 584</td>\n",
       "    </tr>\n",
       "    <tr>\n",
       "      <th>824871</th>\n",
       "      <td>6036</td>\n",
       "      <td>3022 1583 472 3529 640 3013 463 1223 2757 584</td>\n",
       "    </tr>\n",
       "    <tr>\n",
       "      <th>881829</th>\n",
       "      <td>6037</td>\n",
       "      <td>3409 463 3022 3677 472 1315 2402 3529 3013 476</td>\n",
       "    </tr>\n",
       "    <tr>\n",
       "      <th>887054</th>\n",
       "      <td>6038</td>\n",
       "      <td>331 3409 463 3677 472 1337 2862 1315 2397 2688</td>\n",
       "    </tr>\n",
       "    <tr>\n",
       "      <th>887264</th>\n",
       "      <td>6039</td>\n",
       "      <td>472 463 3022 1583 2297 1223 3529 2757 2256 1560</td>\n",
       "    </tr>\n",
       "  </tbody>\n",
       "</table>\n",
       "<p>6040 rows × 2 columns</p>\n",
       "</div>"
      ],
      "text/plain": [
       "        user_id                                          item_id\n",
       "881607        0    3022 1583 472 3529 640 3013 1223 463 2757 584\n",
       "886016        1   331 3409 463 472 1337 2862 2297 1315 2980 3677\n",
       "886236        2   331 2862 1337 2256 3409 472 2980 463 3677 2297\n",
       "887651        3    3022 1583 472 3529 640 3013 1223 463 2757 584\n",
       "882812        4   472 3022 463 1583 3529 3013 3409 3677 476 1223\n",
       "...         ...                                              ...\n",
       "888042     6035    3022 1583 472 3529 640 3013 463 1223 2757 584\n",
       "824871     6036    3022 1583 472 3529 640 3013 463 1223 2757 584\n",
       "881829     6037   3409 463 3022 3677 472 1315 2402 3529 3013 476\n",
       "887054     6038   331 3409 463 3677 472 1337 2862 1315 2397 2688\n",
       "887264     6039  472 463 3022 1583 2297 1223 3529 2757 2256 1560\n",
       "\n",
       "[6040 rows x 2 columns]"
      ]
     },
     "execution_count": 43,
     "metadata": {},
     "output_type": "execute_result"
    }
   ],
   "source": [
    "submit_res = df_last.sort_values('user_id', ascending=True)\n",
    "submit_res.columns = ['user_id', 'item_id']\n",
    "submit_res"
   ]
  },
  {
   "cell_type": "code",
   "execution_count": 44,
   "metadata": {},
   "outputs": [],
   "source": [
    "submit_res['user_id'] = submit_res['user_id'].astype(str)\n",
    "submit_res.to_csv('submit_The_boysV4.csv', index=False)"
   ]
  },
  {
   "cell_type": "code",
   "execution_count": null,
   "metadata": {},
   "outputs": [],
   "source": []
  }
 ],
 "metadata": {
  "accelerator": "GPU",
  "colab": {
   "gpuType": "T4",
   "provenance": []
  },
  "kernelspec": {
   "display_name": "Python 3 (ipykernel)",
   "language": "python",
   "name": "python3"
  },
  "language_info": {
   "codemirror_mode": {
    "name": "ipython",
    "version": 3
   },
   "file_extension": ".py",
   "mimetype": "text/x-python",
   "name": "python",
   "nbconvert_exporter": "python",
   "pygments_lexer": "ipython3",
   "version": "3.12.3"
  },
  "widgets": {
   "application/vnd.jupyter.widget-state+json": {
    "120a009294c446a6aa3b8dc64268c8a8": {
     "model_module": "@jupyter-widgets/controls",
     "model_module_version": "1.5.0",
     "model_name": "HTMLModel",
     "state": {
      "_dom_classes": [],
      "_model_module": "@jupyter-widgets/controls",
      "_model_module_version": "1.5.0",
      "_model_name": "HTMLModel",
      "_view_count": null,
      "_view_module": "@jupyter-widgets/controls",
      "_view_module_version": "1.5.0",
      "_view_name": "HTMLView",
      "description": "",
      "description_tooltip": null,
      "layout": "IPY_MODEL_89316b68b1ac43b8a8f5c820e1af6d47",
      "placeholder": "​",
      "style": "IPY_MODEL_80bffdab71e24393b0b018ef41a33ab1",
      "value": "Training:   3%"
     }
    },
    "626330ecafb1444fb75862f362a5c8b0": {
     "model_module": "@jupyter-widgets/controls",
     "model_module_version": "1.5.0",
     "model_name": "HBoxModel",
     "state": {
      "_dom_classes": [],
      "_model_module": "@jupyter-widgets/controls",
      "_model_module_version": "1.5.0",
      "_model_name": "HBoxModel",
      "_view_count": null,
      "_view_module": "@jupyter-widgets/controls",
      "_view_module_version": "1.5.0",
      "_view_name": "HBoxView",
      "box_style": "",
      "children": [
       "IPY_MODEL_120a009294c446a6aa3b8dc64268c8a8",
       "IPY_MODEL_68982086ccb74f30afb8e0aa8625e8b1",
       "IPY_MODEL_663ef42be77c4c2fbd378e9f93202d3c"
      ],
      "layout": "IPY_MODEL_f0332d839c93416494059962613d17c9"
     }
    },
    "663ef42be77c4c2fbd378e9f93202d3c": {
     "model_module": "@jupyter-widgets/controls",
     "model_module_version": "1.5.0",
     "model_name": "HTMLModel",
     "state": {
      "_dom_classes": [],
      "_model_module": "@jupyter-widgets/controls",
      "_model_module_version": "1.5.0",
      "_model_name": "HTMLModel",
      "_view_count": null,
      "_view_module": "@jupyter-widgets/controls",
      "_view_module_version": "1.5.0",
      "_view_name": "HTMLView",
      "description": "",
      "description_tooltip": null,
      "layout": "IPY_MODEL_e1693b8f22c84f409809cb72cc008189",
      "placeholder": "​",
      "style": "IPY_MODEL_cf2f899fc7e9425ca06bd8217fbf8bce",
      "value": " 711/27376 [07:15&lt;4:34:24,  1.62it/s, loss=7.56]"
     }
    },
    "68982086ccb74f30afb8e0aa8625e8b1": {
     "model_module": "@jupyter-widgets/controls",
     "model_module_version": "1.5.0",
     "model_name": "FloatProgressModel",
     "state": {
      "_dom_classes": [],
      "_model_module": "@jupyter-widgets/controls",
      "_model_module_version": "1.5.0",
      "_model_name": "FloatProgressModel",
      "_view_count": null,
      "_view_module": "@jupyter-widgets/controls",
      "_view_module_version": "1.5.0",
      "_view_name": "ProgressView",
      "bar_style": "",
      "description": "",
      "description_tooltip": null,
      "layout": "IPY_MODEL_dfa4982186cf470bb208fd8d78cb901e",
      "max": 27376,
      "min": 0,
      "orientation": "horizontal",
      "style": "IPY_MODEL_81f2a72fda4b4c8983fd4966bca93dad",
      "value": 711
     }
    },
    "80bffdab71e24393b0b018ef41a33ab1": {
     "model_module": "@jupyter-widgets/controls",
     "model_module_version": "1.5.0",
     "model_name": "DescriptionStyleModel",
     "state": {
      "_model_module": "@jupyter-widgets/controls",
      "_model_module_version": "1.5.0",
      "_model_name": "DescriptionStyleModel",
      "_view_count": null,
      "_view_module": "@jupyter-widgets/base",
      "_view_module_version": "1.2.0",
      "_view_name": "StyleView",
      "description_width": ""
     }
    },
    "81f2a72fda4b4c8983fd4966bca93dad": {
     "model_module": "@jupyter-widgets/controls",
     "model_module_version": "1.5.0",
     "model_name": "ProgressStyleModel",
     "state": {
      "_model_module": "@jupyter-widgets/controls",
      "_model_module_version": "1.5.0",
      "_model_name": "ProgressStyleModel",
      "_view_count": null,
      "_view_module": "@jupyter-widgets/base",
      "_view_module_version": "1.2.0",
      "_view_name": "StyleView",
      "bar_color": null,
      "description_width": ""
     }
    },
    "89316b68b1ac43b8a8f5c820e1af6d47": {
     "model_module": "@jupyter-widgets/base",
     "model_module_version": "1.2.0",
     "model_name": "LayoutModel",
     "state": {
      "_model_module": "@jupyter-widgets/base",
      "_model_module_version": "1.2.0",
      "_model_name": "LayoutModel",
      "_view_count": null,
      "_view_module": "@jupyter-widgets/base",
      "_view_module_version": "1.2.0",
      "_view_name": "LayoutView",
      "align_content": null,
      "align_items": null,
      "align_self": null,
      "border": null,
      "bottom": null,
      "display": null,
      "flex": null,
      "flex_flow": null,
      "grid_area": null,
      "grid_auto_columns": null,
      "grid_auto_flow": null,
      "grid_auto_rows": null,
      "grid_column": null,
      "grid_gap": null,
      "grid_row": null,
      "grid_template_areas": null,
      "grid_template_columns": null,
      "grid_template_rows": null,
      "height": null,
      "justify_content": null,
      "justify_items": null,
      "left": null,
      "margin": null,
      "max_height": null,
      "max_width": null,
      "min_height": null,
      "min_width": null,
      "object_fit": null,
      "object_position": null,
      "order": null,
      "overflow": null,
      "overflow_x": null,
      "overflow_y": null,
      "padding": null,
      "right": null,
      "top": null,
      "visibility": null,
      "width": null
     }
    },
    "cf2f899fc7e9425ca06bd8217fbf8bce": {
     "model_module": "@jupyter-widgets/controls",
     "model_module_version": "1.5.0",
     "model_name": "DescriptionStyleModel",
     "state": {
      "_model_module": "@jupyter-widgets/controls",
      "_model_module_version": "1.5.0",
      "_model_name": "DescriptionStyleModel",
      "_view_count": null,
      "_view_module": "@jupyter-widgets/base",
      "_view_module_version": "1.2.0",
      "_view_name": "StyleView",
      "description_width": ""
     }
    },
    "dfa4982186cf470bb208fd8d78cb901e": {
     "model_module": "@jupyter-widgets/base",
     "model_module_version": "1.2.0",
     "model_name": "LayoutModel",
     "state": {
      "_model_module": "@jupyter-widgets/base",
      "_model_module_version": "1.2.0",
      "_model_name": "LayoutModel",
      "_view_count": null,
      "_view_module": "@jupyter-widgets/base",
      "_view_module_version": "1.2.0",
      "_view_name": "LayoutView",
      "align_content": null,
      "align_items": null,
      "align_self": null,
      "border": null,
      "bottom": null,
      "display": null,
      "flex": null,
      "flex_flow": null,
      "grid_area": null,
      "grid_auto_columns": null,
      "grid_auto_flow": null,
      "grid_auto_rows": null,
      "grid_column": null,
      "grid_gap": null,
      "grid_row": null,
      "grid_template_areas": null,
      "grid_template_columns": null,
      "grid_template_rows": null,
      "height": null,
      "justify_content": null,
      "justify_items": null,
      "left": null,
      "margin": null,
      "max_height": null,
      "max_width": null,
      "min_height": null,
      "min_width": null,
      "object_fit": null,
      "object_position": null,
      "order": null,
      "overflow": null,
      "overflow_x": null,
      "overflow_y": null,
      "padding": null,
      "right": null,
      "top": null,
      "visibility": null,
      "width": null
     }
    },
    "e1693b8f22c84f409809cb72cc008189": {
     "model_module": "@jupyter-widgets/base",
     "model_module_version": "1.2.0",
     "model_name": "LayoutModel",
     "state": {
      "_model_module": "@jupyter-widgets/base",
      "_model_module_version": "1.2.0",
      "_model_name": "LayoutModel",
      "_view_count": null,
      "_view_module": "@jupyter-widgets/base",
      "_view_module_version": "1.2.0",
      "_view_name": "LayoutView",
      "align_content": null,
      "align_items": null,
      "align_self": null,
      "border": null,
      "bottom": null,
      "display": null,
      "flex": null,
      "flex_flow": null,
      "grid_area": null,
      "grid_auto_columns": null,
      "grid_auto_flow": null,
      "grid_auto_rows": null,
      "grid_column": null,
      "grid_gap": null,
      "grid_row": null,
      "grid_template_areas": null,
      "grid_template_columns": null,
      "grid_template_rows": null,
      "height": null,
      "justify_content": null,
      "justify_items": null,
      "left": null,
      "margin": null,
      "max_height": null,
      "max_width": null,
      "min_height": null,
      "min_width": null,
      "object_fit": null,
      "object_position": null,
      "order": null,
      "overflow": null,
      "overflow_x": null,
      "overflow_y": null,
      "padding": null,
      "right": null,
      "top": null,
      "visibility": null,
      "width": null
     }
    },
    "f0332d839c93416494059962613d17c9": {
     "model_module": "@jupyter-widgets/base",
     "model_module_version": "1.2.0",
     "model_name": "LayoutModel",
     "state": {
      "_model_module": "@jupyter-widgets/base",
      "_model_module_version": "1.2.0",
      "_model_name": "LayoutModel",
      "_view_count": null,
      "_view_module": "@jupyter-widgets/base",
      "_view_module_version": "1.2.0",
      "_view_name": "LayoutView",
      "align_content": null,
      "align_items": null,
      "align_self": null,
      "border": null,
      "bottom": null,
      "display": null,
      "flex": null,
      "flex_flow": null,
      "grid_area": null,
      "grid_auto_columns": null,
      "grid_auto_flow": null,
      "grid_auto_rows": null,
      "grid_column": null,
      "grid_gap": null,
      "grid_row": null,
      "grid_template_areas": null,
      "grid_template_columns": null,
      "grid_template_rows": null,
      "height": null,
      "justify_content": null,
      "justify_items": null,
      "left": null,
      "margin": null,
      "max_height": null,
      "max_width": null,
      "min_height": null,
      "min_width": null,
      "object_fit": null,
      "object_position": null,
      "order": null,
      "overflow": null,
      "overflow_x": null,
      "overflow_y": null,
      "padding": null,
      "right": null,
      "top": null,
      "visibility": null,
      "width": null
     }
    }
   }
  }
 },
 "nbformat": 4,
 "nbformat_minor": 4
}
